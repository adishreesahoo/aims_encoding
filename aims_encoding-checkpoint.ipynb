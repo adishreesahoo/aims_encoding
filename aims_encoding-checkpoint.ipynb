{
 "cells": [
  {
   "cell_type": "code",
   "execution_count": 1,
   "id": "b7fa76fa-a7d3-4454-b546-3e513bb043af",
   "metadata": {},
   "outputs": [],
   "source": [
    "import pandas as pd\n",
    "import numpy as np"
   ]
  },
  {
   "cell_type": "code",
   "execution_count": 3,
   "id": "83341939-01d0-4ff2-82bf-d5ad828d3cc7",
   "metadata": {},
   "outputs": [],
   "source": [
    "df = pd.read_csv('C:\\\\Users\\\\Adishree\\\\Desktop\\\\DTU\\\\AIMS\\\\car-sales-extended-missing-data.csv')"
   ]
  },
  {
   "cell_type": "code",
   "execution_count": 5,
   "id": "3d48134c-d72e-4789-8f45-5fab57bd79a7",
   "metadata": {},
   "outputs": [
    {
     "name": "stdout",
     "output_type": "stream",
     "text": [
      "Original Data:\n",
      "     Make Colour  Odometer (KM)  Doors    Price\n",
      "0   Honda  White        35431.0    4.0  15323.0\n",
      "1     BMW   Blue       192714.0    5.0  19943.0\n",
      "2   Honda  White        84714.0    4.0  28343.0\n",
      "3  Toyota  White       154365.0    4.0  13434.0\n",
      "4  Nissan   Blue       181577.0    3.0  14043.0\n"
     ]
    }
   ],
   "source": [
    "print(\"Original Data:\")\n",
    "print(df.head())"
   ]
  },
  {
   "cell_type": "code",
   "execution_count": 7,
   "id": "2db9e9b6-6e74-4b4e-9432-8879c4ac319b",
   "metadata": {},
   "outputs": [
    {
     "name": "stdout",
     "output_type": "stream",
     "text": [
      "\n",
      "After Ordinal Encoding:\n",
      "  Colour  category_ordinal\n",
      "0  White                 4\n",
      "1   Blue                 1\n",
      "2  White                 4\n",
      "3  White                 4\n",
      "4   Blue                 1\n"
     ]
    }
   ],
   "source": [
    "#ORDINAL\n",
    "df['category_ordinal'] = df['Colour'].astype('category').cat.codes\n",
    "\n",
    "print(\"\\nAfter Ordinal Encoding:\")\n",
    "print(df[['Colour', 'category_ordinal']].head())"
   ]
  },
  {
   "cell_type": "code",
   "execution_count": 13,
   "id": "a1d18116-58f0-4a76-8ada-f41a9b427871",
   "metadata": {},
   "outputs": [],
   "source": [
    "#ONEHOT\n",
    "df_onehot = pd.get_dummies(df['Colour'], prefix='category')\n",
    "\n",
    "\n",
    "df = pd.concat([df, df_onehot], axis=1)\n"
   ]
  },
  {
   "cell_type": "code",
   "execution_count": 15,
   "id": "74ae8ed0-e221-402d-9bde-8bc99c0282bb",
   "metadata": {},
   "outputs": [
    {
     "name": "stdout",
     "output_type": "stream",
     "text": [
      "\n",
      "After One-Hot Encoding:\n",
      "     Make Colour  Odometer (KM)  Doors    Price  category_ordinal  \\\n",
      "0   Honda  White        35431.0    4.0  15323.0                 4   \n",
      "1     BMW   Blue       192714.0    5.0  19943.0                 1   \n",
      "2   Honda  White        84714.0    4.0  28343.0                 4   \n",
      "3  Toyota  White       154365.0    4.0  13434.0                 4   \n",
      "4  Nissan   Blue       181577.0    3.0  14043.0                 1   \n",
      "\n",
      "   category_Black  category_Blue  category_Green  category_Red  ...  \\\n",
      "0           False          False           False         False  ...   \n",
      "1           False           True           False         False  ...   \n",
      "2           False          False           False         False  ...   \n",
      "3           False          False           False         False  ...   \n",
      "4           False           True           False         False  ...   \n",
      "\n",
      "   category_Black  category_Blue  category_Green  category_Red  \\\n",
      "0           False          False           False         False   \n",
      "1           False           True           False         False   \n",
      "2           False          False           False         False   \n",
      "3           False          False           False         False   \n",
      "4           False           True           False         False   \n",
      "\n",
      "   category_White  category_Black  category_Blue  category_Green  \\\n",
      "0            True           False          False           False   \n",
      "1           False           False           True           False   \n",
      "2            True           False          False           False   \n",
      "3            True           False          False           False   \n",
      "4           False           False           True           False   \n",
      "\n",
      "   category_Red  category_White  \n",
      "0         False            True  \n",
      "1         False           False  \n",
      "2         False            True  \n",
      "3         False            True  \n",
      "4         False           False  \n",
      "\n",
      "[5 rows x 21 columns]\n"
     ]
    }
   ],
   "source": [
    "print(\"\\nAfter One-Hot Encoding:\")\n",
    "print(df.head())"
   ]
  },
  {
   "cell_type": "code",
   "execution_count": null,
   "id": "3887dbea-e46f-4faa-a0dd-13eb121a621f",
   "metadata": {},
   "outputs": [],
   "source": []
  }
 ],
 "metadata": {
  "kernelspec": {
   "display_name": "Python 3 (ipykernel)",
   "language": "python",
   "name": "python3"
  },
  "language_info": {
   "codemirror_mode": {
    "name": "ipython",
    "version": 3
   },
   "file_extension": ".py",
   "mimetype": "text/x-python",
   "name": "python",
   "nbconvert_exporter": "python",
   "pygments_lexer": "ipython3",
   "version": "3.12.4"
  }
 },
 "nbformat": 4,
 "nbformat_minor": 5
}
